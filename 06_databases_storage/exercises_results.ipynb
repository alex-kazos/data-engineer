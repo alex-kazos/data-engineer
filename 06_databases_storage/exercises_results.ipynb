{
 "cells": [
  {
   "cell_type": "markdown",
   "id": "b5bf730d",
   "metadata": {
    "vscode": {
     "languageId": "plaintext"
    }
   },
   "source": [
    "# Databases and Storage: Exercise Results\n",
    "\n",
    "## 1. Connect to a Database\n",
    "- Use Python to connect to a local SQLite or PostgreSQL database and list all tables.\n"
   ]
  },
  {
   "cell_type": "code",
   "execution_count": null,
   "id": "b9c721a3",
   "metadata": {},
   "outputs": [],
   "source": [
    "import sqlite3\n",
    "conn = sqlite3.connect('test.db')\n",
    "cursor = conn.cursor()\n",
    "cursor.execute(\"SELECT name FROM sqlite_master WHERE type='table';\")\n",
    "tables = cursor.fetchall()\n",
    "print(tables)\n"
   ]
  },
  {
   "cell_type": "markdown",
   "id": "425ec797",
   "metadata": {
    "vscode": {
     "languageId": "plaintext"
    }
   },
   "source": [
    "## 2. CRUD Operations\n",
    "- Write Python code to insert, select, update, and delete records in a table.\n"
   ]
  },
  {
   "cell_type": "code",
   "execution_count": null,
   "id": "dfdd8440",
   "metadata": {},
   "outputs": [],
   "source": [
    "# Insert\n",
    "cursor.execute(\"INSERT INTO users (name) VALUES ('Alice')\")\n",
    "# Select\n",
    "cursor.execute(\"SELECT * FROM users\")\n",
    "print(cursor.fetchall())\n",
    "# Update\n",
    "cursor.execute(\"UPDATE users SET name='Bob' WHERE name='Alice'\")\n",
    "# Delete\n",
    "cursor.execute(\"DELETE FROM users WHERE name='Bob'\")\n"
   ]
  },
  {
   "cell_type": "markdown",
   "id": "3010adff",
   "metadata": {},
   "source": [
    "\n",
    "## 3. NoSQL Practice\n",
    "- Insert and retrieve a document from MongoDB using Python.\n",
    "- Store and retrieve a key-value pair in Redis.\n"
   ]
  },
  {
   "cell_type": "code",
   "execution_count": null,
   "id": "cddf1cd0",
   "metadata": {},
   "outputs": [],
   "source": [
    "# MongoDB\n",
    "from pymongo import MongoClient\n",
    "client = MongoClient()\n",
    "db = client.test\n",
    "db.users.insert_one({'name': 'Alice'})\n",
    "print(db.users.find_one({'name': 'Alice'}))\n",
    "# Redis\n",
    "import redis\n",
    "r = redis.Redis()\n",
    "r.set('key', 'value')\n",
    "print(r.get('key'))\n",
    "\n"
   ]
  },
  {
   "cell_type": "markdown",
   "id": "f1d61600",
   "metadata": {},
   "source": [
    "\n",
    "## 4. Cloud Storage\n",
    "- Upload and download a file to AWS S3 using boto3 (use a test bucket).\n"
   ]
  },
  {
   "cell_type": "code",
   "execution_count": null,
   "id": "312ebafe",
   "metadata": {},
   "outputs": [],
   "source": [
    "import boto3\n",
    "s3 = boto3.client('s3')\n",
    "s3.upload_file('local.txt', 'bucket', 'remote.txt')\n",
    "s3.download_file('bucket', 'remote.txt', 'downloaded.txt')\n"
   ]
  },
  {
   "cell_type": "markdown",
   "id": "d4fa812b",
   "metadata": {},
   "source": [
    "\n",
    "---\n",
    "\n",
    "### Challenge\n",
    "- Compare query speed with and without an index on a large table.\n",
    "\n",
    "- Use `EXPLAIN` in SQL to compare query plans with and without an index.\n"
   ]
  }
 ],
 "metadata": {
  "language_info": {
   "name": "python"
  }
 },
 "nbformat": 4,
 "nbformat_minor": 5
}
