{
 "cells": [
  {
   "cell_type": "markdown",
   "id": "c53c2189",
   "metadata": {},
   "source": [
    "# Data Modeling & Warehouse Concepts: Exercise Results\n",
    "\n",
    "## 1. Draw Schemas\n",
    "- **Star schema:** Central fact table (e.g., sales) surrounded by dimension tables (products, customers, dates), all dimensions connect directly to the fact table.\n",
    "- **Snowflake schema:** Dimension tables are further normalized into sub-dimension tables (e.g., product_category table linked from products), resulting in more tables and relationships.\n",
    "\n",
    "## 2. Fact vs Dimension\n",
    "- **Fact tables:** Contain measurable events or transactions, e.g., sales, orders, payments.\n",
    "- **Dimension tables:** Contain descriptive attributes for context, e.g., customers (customer_id, name), products (product_id, name), dates (date_id, date).\n",
    "\n",
    "## 3. Normalization\n",
    "- Example: Instead of storing full address in the customer table, create a separate address table.\n",
    "    - `customers (customer_id, name, address_id)`\n",
    "    - `addresses (address_id, street, city, state, zip)`\n",
    "    - Link with `address_id`. This avoids address duplication and maintains consistency.\n",
    "\n",
    "## 4. Denormalization\n",
    "- Example: Merge orders and customers into one table for reporting to reduce joins and improve query speed.\n",
    "    - `orders_report (order_id, customer_id, customer_name, customer_email, order_date, ...)`\n",
    "    - This can increase redundancy but benefits analytic performance.\n",
    "\n",
    "## 5. dbt Practice\n",
    "```sql\n",
    "-- dbt model: total sales per product\n",
    "SELECT product_id, SUM(amount) AS total_sales\n",
    "FROM sales\n",
    "GROUP BY product_id;\n",
    "\n",
    "-- dbt test: Ensure product_id column is never null\n",
    "-- Example dbt test config:\n",
    "-- tests:\n",
    "--   - not_null:\n",
    "--       column_name: product_id\n",
    "```\n",
    "\n",
    "---\n",
    "\n",
    "### Challenge\n",
    "- Warehouse schema for a ride-sharing app:\n",
    "    - `drivers (driver_id, name, car_info, ...)`\n",
    "    - `riders (rider_id, name, ...)`\n",
    "    - `trips (trip_id, driver_id, rider_id, start_time, end_time, distance, ...)`\n",
    "    - `payments (payment_id, trip_id, amount, payment_time, method)`\n",
    "- Relationships:\n",
    "    - trips references drivers and riders via `driver_id` and `rider_id`.\n",
    "    - payments references trips via `trip_id`.\n"
   ]
  },
  {
   "cell_type": "markdown",
   "id": "ac73155e",
   "metadata": {},
   "source": []
  }
 ],
 "metadata": {
  "language_info": {
   "name": "python"
  }
 },
 "nbformat": 4,
 "nbformat_minor": 5
}
