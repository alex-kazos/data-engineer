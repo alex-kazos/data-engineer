{
 "cells": [
  {
   "cell_type": "markdown",
   "metadata": {},
   "source": [
    "# Pandas & Polars: Exercise Results"
   ]
  },
  {
   "cell_type": "markdown",
   "metadata": {},
   "source": [
    "## 1. Create a DataFrame\n",
    "- Create a simple DataFrame using both Pandas and Polars. This helps you understand the syntax differences and similarities between the two libraries for creating tabular data.\n"
   ]
  },
  {
   "cell_type": "code",
   "execution_count": null,
   "metadata": {},
   "outputs": [],
   "source": [
    "# Pandas\n",
    "df_pd = pd.DataFrame({'name': ['Alice', 'Bob', 'Charlie'], 'score': [85, 92, 78]})\n",
    "print(df_pd)\n"
   ]
  },
  {
   "cell_type": "code",
   "execution_count": null,
   "metadata": {},
   "outputs": [],
   "source": [
    "\n",
    "# Polars\n",
    "df_pl = pl.DataFrame({'name': ['Alice', 'Bob', 'Charlie'], 'score': [85, 92, 78]})\n",
    "print(df_pl)\n"
   ]
  },
  {
   "cell_type": "markdown",
   "metadata": {},
   "source": [
    "## 2. Read CSV\n",
    "- Practice reading data from a CSV file using both Pandas and Polars. This is a fundamental skill for importing real-world datasets.\n"
   ]
  },
  {
   "cell_type": "code",
   "execution_count": null,
   "metadata": {},
   "outputs": [],
   "source": [
    "# Pandas\n",
    "students_pd = pd.read_csv('students.csv')\n"
   ]
  },
  {
   "cell_type": "code",
   "execution_count": null,
   "metadata": {},
   "outputs": [],
   "source": [
    "\n",
    "# Polars\n",
    "students_pl = pl.read_csv('students.csv')\n",
    "\n"
   ]
  },
  {
   "cell_type": "markdown",
   "metadata": {},
   "source": [
    "## 3. Inspect Data\n",
    "- Explore how to view the first few rows, check the column names, and get a quick overview of your data. This step is crucial for understanding the structure and contents of your dataset.\n"
   ]
  },
  {
   "cell_type": "code",
   "execution_count": null,
   "metadata": {},
   "outputs": [],
   "source": [
    "\n",
    "print(students_pd.head(3))\n",
    "print(students_pd.columns)\n",
    "print(students_pl.head(3))\n",
    "print(students_pl.columns)"
   ]
  },
  {
   "cell_type": "markdown",
   "metadata": {},
   "source": [
    "## 4. Filter Data\n",
    "- Apply filters to your DataFrame to select rows based on conditions (e.g., scores above a certain threshold). Filtering is essential for focusing on relevant data.\n"
   ]
  },
  {
   "cell_type": "code",
   "execution_count": null,
   "metadata": {},
   "outputs": [],
   "source": [
    "\n",
    "# Pandas\n",
    "print(students_pd[students_pd['score'] > 80])\n"
   ]
  },
  {
   "cell_type": "code",
   "execution_count": null,
   "metadata": {},
   "outputs": [],
   "source": [
    "\n",
    "# Polars\n",
    "print(students_pl.filter(students_pl['score'] > 80))\n"
   ]
  },
  {
   "cell_type": "markdown",
   "metadata": {},
   "source": [
    "## 5. Add a Column\n",
    "- Add a new column to your DataFrame based on existing data (e.g., a 'passed' column that is True if score >= 60). This exercise demonstrates how to derive new information from your data.\n"
   ]
  },
  {
   "cell_type": "code",
   "execution_count": null,
   "metadata": {},
   "outputs": [],
   "source": [
    "\n",
    "# Pandas\n",
    "students_pd['passed'] = students_pd['score'] >= 60\n"
   ]
  },
  {
   "cell_type": "code",
   "execution_count": null,
   "metadata": {},
   "outputs": [],
   "source": [
    "\n",
    "# Polars\n",
    "students_pl = students_pl.with_columns([\n",
    "    (students_pl['score'] >= 60).alias('passed')\n",
    "])\n"
   ]
  },
  {
   "cell_type": "markdown",
   "metadata": {},
   "source": [
    "## 6. Group and Aggregate\n",
    "- Group your data by a column and calculate aggregate statistics (like mean or sum). Grouping and aggregation are key operations for summarizing and analyzing data.\n"
   ]
  },
  {
   "cell_type": "code",
   "execution_count": null,
   "metadata": {},
   "outputs": [],
   "source": [
    "\n",
    "# Pandas\n",
    "print(students_pd.groupby('passed').size())\n"
   ]
  },
  {
   "cell_type": "code",
   "execution_count": null,
   "metadata": {},
   "outputs": [],
   "source": [
    "\n",
    "# Polars\n",
    "print(students_pl.groupby('passed').count())\n"
   ]
  },
  {
   "cell_type": "markdown",
   "metadata": {},
   "source": [
    "## 7. Handle Missing Data\n",
    "- Learn how to identify and handle missing values in your data. This is important for data cleaning and ensuring analysis accuracy.\n"
   ]
  },
  {
   "cell_type": "code",
   "execution_count": null,
   "metadata": {},
   "outputs": [],
   "source": [
    "\n",
    "# Pandas\n",
    "mean_score_pd = students_pd['score'].mean()\n",
    "students_pd['score'] = students_pd['score'].fillna(mean_score_pd)\n"
   ]
  },
  {
   "cell_type": "code",
   "execution_count": null,
   "metadata": {},
   "outputs": [],
   "source": [
    "\n",
    "# Polars\n",
    "mean_score_pl = students_pl['score'].mean()\n",
    "students_pl = students_pl.with_columns([\n",
    "    pl.col('score').fill_null(mean_score_pl)\n",
    "])\n",
    "\n"
   ]
  },
  {
   "cell_type": "markdown",
   "metadata": {},
   "source": [
    "\n",
    "## 8. Merge DataFrames\n",
    "- Combine two DataFrames using a common column. Merging is vital for bringing together related datasets.\n"
   ]
  },
  {
   "cell_type": "code",
   "execution_count": null,
   "metadata": {},
   "outputs": [],
   "source": [
    "\n",
    "# Pandas\n",
    "emails_pd = pd.DataFrame({'name': ['Alice', 'Bob', 'Charlie'], 'email': ['alice@email.com', 'bob@email.com', 'charlie@email.com']})\n",
    "merged_pd = pd.merge(students_pd, emails_pd, on='name')\n",
    "print(merged_pd)\n"
   ]
  },
  {
   "cell_type": "code",
   "execution_count": null,
   "metadata": {},
   "outputs": [],
   "source": [
    "\n",
    "# Polars\n",
    "emails_pl = pl.DataFrame({'name': ['Alice', 'Bob', 'Charlie'], 'email': ['alice@email.com', 'bob@email.com', 'charlie@email.com']})\n",
    "merged_pl = students_pl.join(emails_pl, on='name')\n",
    "print(merged_pl)"
   ]
  },
  {
   "cell_type": "markdown",
   "metadata": {},
   "source": [
    "## 9. Write to CSV\n",
    "- Export your processed DataFrame to a new CSV file. Writing data is necessary for saving results and sharing them with others."
   ]
  },
  {
   "cell_type": "code",
   "execution_count": null,
   "metadata": {},
   "outputs": [],
   "source": [
    "\n",
    "# Pandas\n",
    "students_pd.to_csv('output.csv', index=False)\n"
   ]
  },
  {
   "cell_type": "code",
   "execution_count": null,
   "metadata": {},
   "outputs": [],
   "source": [
    "\n",
    "# Polars\n",
    "students_pl.write_csv('output.csv')\n"
   ]
  },
  {
   "cell_type": "markdown",
   "metadata": {},
   "source": [
    "\n",
    "---\n",
    "\n",
    "### Challenge\n",
    "- Apply what you’ve learned to a larger or more complex dataset, or try optimizing your code for performance using Polars.\n"
   ]
  },
  {
   "cell_type": "code",
   "execution_count": null,
   "metadata": {},
   "outputs": [],
   "source": [
    "\n",
    "# Pandas\n",
    "import time\n",
    "import numpy as np\n",
    "\n",
    "rows = 1_000_000\n",
    "data = {'a': np.random.randint(0, 100, rows), 'b': np.random.randint(0, 100, rows)}\n",
    "start = time.time()\n",
    "pd_df = pd.DataFrame(data)\n",
    "pd_df['c'] = pd_df['a'] + pd_df['b']\n",
    "pandas_time = time.time() - start\n",
    "print(f'Pandas time: {pandas_time:.2f}s')\n"
   ]
  },
  {
   "cell_type": "code",
   "execution_count": null,
   "metadata": {},
   "outputs": [],
   "source": [
    "\n",
    "start = time.time()\n",
    "pl_df = pl.DataFrame(data)\n",
    "pl_df = pl_df.with_columns((pl_df['a'] + pl_df['b']).alias('c'))\n",
    "polars_time = time.time() - start\n",
    "print(f'Polars time: {polars_time:.2f}s')\n",
    "\n"
   ]
  },
  {
   "cell_type": "markdown",
   "metadata": {},
   "source": [
    "\n",
    "(Polars is typically much faster for large datasets)\n"
   ]
  }
 ],
 "metadata": {
  "language_info": {
   "name": "python"
  }
 },
 "nbformat": 4,
 "nbformat_minor": 2
}
