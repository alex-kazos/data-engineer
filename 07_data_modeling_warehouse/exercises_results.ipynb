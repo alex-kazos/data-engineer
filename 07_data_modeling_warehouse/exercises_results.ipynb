{
 "cells": [
  {
   "cell_type": "markdown",
   "id": "c53c2189",
   "metadata": {},
   "source": [
    "# Data Modeling & Warehouse Concepts: Exercises Results"
   ]
  },
  {
   "cell_type": "markdown",
   "id": "ec30831f",
   "metadata": {},
   "source": [
    "\n",
    "## 1. Data Modeling Fundamentals\n",
    "- **a.** Define *data modeling* in your own words. Why is it important in analytics and data engineering?\n",
    "- **b.** List and briefly describe the three types of data models: *conceptual*, *logical*, and *physical*."
   ]
  },
  {
   "cell_type": "markdown",
   "id": "0b0c64f5",
   "metadata": {
    "vscode": {
     "languageId": "plaintext"
    }
   },
   "source": [
    "### Answer\n",
    "\n",
    "- **a.** *Data modeling* is the process of designing and structuring how data is stored, organized, and related within a system. It serves as a blueprint for how information flows and is accessed, ensuring consistency, integrity, and clarity. In analytics and data engineering, data modeling is crucial because it enables efficient querying, reliable reporting, scalable architectures, and easier maintenance, all of which are key for supporting business decisions and data-driven insights.\n",
    "\n",
    "- **b.** Types of data models:\n",
    "    - **Conceptual model:** High-level representation that defines the main entities and their relationships, focusing on what data is important without concern for implementation details. Useful for communicating with stakeholders and establishing business requirements.\n",
    "    - **Logical model:** More detailed than the conceptual model, it defines tables, columns, keys, and relationships in a technology-agnostic way. It translates business requirements into a structured format, preparing for implementation.\n",
    "    - **Physical model:** The actual implementation of the logical model in a specific database system. It specifies data types, indexes, partitions, and physical storage details, optimizing for performance and constraints of the chosen technology.\n"
   ]
  },
  {
   "cell_type": "markdown",
   "id": "4c6f3ad1",
   "metadata": {},
   "source": [
    "---\n",
    "## 2. Schema Design\n",
    "- **a.** Given a retail business scenario (sales, products, customers, dates), draw an ER diagram for both a **star schema** and a **snowflake schema**. Label fact and dimension tables.\n",
    "- **b.** Identify one advantage and one disadvantage of each schema type.\n",
    "\n"
   ]
  },
  {
   "cell_type": "markdown",
   "id": "dbd0eeb8",
   "metadata": {
    "vscode": {
     "languageId": "plaintext"
    }
   },
   "source": [
    "### Answer\n",
    "\n",
    "**a. ER Diagram for Star and Snowflake Schemas**\n",
    "\n",
    "- **Star Schema:**\n",
    "\n",
    "```\n",
    "               +-------------+\n",
    "               |  Products   |\n",
    "               +-------------+\n",
    "                      |\n",
    "+-----------+   +-----+-----+   +-------------+   +-------------+\n",
    "| Customers |---|   Sales   |---|    Dates    |---|   (Facts)    |\n",
    "+-----------+   +-----------+   +-------------+   +-------------+\n",
    "   (Dim)           (Fact)           (Dim)             (Dim)\n",
    "```\n",
    "\n",
    "- **Snowflake Schema:**\n",
    "\n",
    "```\n",
    "               +-------------+\n",
    "               |  Brands     |\n",
    "               +-----+-------+\n",
    "                     |\n",
    "               +-----v-----+         +-------------+\n",
    "               | Products  |         | Categories  |\n",
    "               +-----+-----+         +-------------+\n",
    "                     |\n",
    "+-----------+   +-----+-----+   +-------------+   +-------------+\n",
    "| Customers |---|   Sales   |---|    Dates    |---|   (Facts)    |\n",
    "+-----+-----+   +-----------+   +-------------+   +-------------+\n",
    "      |            (Fact)           (Dim)             (Dim)\n",
    "+-----v-----+                                     \n",
    "| Addresses |                                    \n",
    "+-----------+                                    \n",
    "```\n",
    "- *In snowflake, dimension tables are further normalized (e.g., products split into brands/categories; customers split into addresses).*\n",
    "\n",
    "**b. Advantages and Disadvantages**\n",
    "\n",
    "- **Star Schema**\n",
    "    - *Advantage:* Simpler design, faster queries for analytics and reporting.\n",
    "    - *Disadvantage:* Data redundancy in dimension tables (denormalized).\n",
    "\n",
    "- **Snowflake Schema**\n",
    "    - *Advantage:* Reduces data redundancy, improves data consistency (more normalized).\n",
    "    - *Disadvantage:* More complex queries (more joins), harder for end-users to understand.\n"
   ]
  },
  {
   "cell_type": "markdown",
   "id": "05b0bbf7",
   "metadata": {},
   "source": [
    "---\n",
    "## 3. Fact vs. Dimension Tables\n",
    "- **a.** For a simple online store, list at least two example fact tables and three dimension tables. Give 2–3 columns for each.\n",
    "- **b.** Explain the difference between a fact table’s and a dimension table’s typical contents.\n",
    "\n"
   ]
  },
  {
   "cell_type": "markdown",
   "id": "cc203bb4",
   "metadata": {},
   "source": [
    "### Answer\n",
    "\n",
    "**a. Example Tables for an Online Store**\n",
    "\n",
    "- **Fact Tables:**\n",
    "    1. `orders`\n",
    "        - Columns: `order_id`, `customer_id`, `order_date`, `total_amount`\n",
    "    2. `order_items`\n",
    "        - Columns: `order_item_id`, `order_id`, `product_id`, `quantity`, `price`\n",
    "\n",
    "- **Dimension Tables:**\n",
    "    1. `customers`\n",
    "        - Columns: `customer_id`, `name`, `email`\n",
    "    2. `products`\n",
    "        - Columns: `product_id`, `name`, `category`\n",
    "    3. `dates`\n",
    "        - Columns: `date_id`, `date`, `weekday`\n",
    "\n",
    "**b. Fact vs. Dimension Table Contents**\n",
    "\n",
    "- **Fact Tables** store measurable, transactional data—events or numeric values (e.g., sales, quantities, amounts). Each row represents an event/transaction and typically contains foreign keys to dimension tables plus metrics.\n",
    "- **Dimension Tables** store descriptive/contextual information (attributes) about the entities involved in facts (e.g., product details, customer info, dates). These provide the “who, what, when, where” context for analyzing facts."
   ]
  },
  {
   "cell_type": "markdown",
   "id": "026d656a",
   "metadata": {},
   "source": [
    "---\n",
    "\n",
    "## 4. Normalization & Denormalization Practice\n",
    "- **a.** Normalize the following customer table by splitting out the address fields into a separate table. Show your resulting table schemas.\n",
    "    ```\n",
    "    customers (customer_id, name, street, city, state, zip)\n",
    "    ```\n",
    "- **b.** Write an SQL statement to join the normalized `customers` and `addresses` tables to produce the original denormalized view.\n",
    "- **c.** Explain one benefit and one drawback of denormalizing tables for analytics.\n",
    "\n"
   ]
  },
  {
   "cell_type": "markdown",
   "id": "07dc9fb4",
   "metadata": {},
   "source": [
    "### Answer\n",
    "\n",
    "### a. Normalize the customer table\n",
    "\n",
    " customers (customer_id, name)\n",
    " addresses (address_id, street, city, state, zip, customer_id)\n",
    "\n",
    "### b. Join the normalized tables\n",
    "\n",
    "SELECT c.customer_id, c.name, a.street, a.city, a.state, a.zip\n",
    "FROM customers c\n",
    "INNER JOIN addresses a ON c.customer_id = a.customer_id\n",
    "\n",
    "### c. Explain one benefit and one drawback of denormalizing tables for analytics\n",
    "\n",
    "Denormalizing tables can improve the performance of analytical queries by reducing the number of joins required. However, it can also lead to data redundancy and inconsistencies if not properly maintained."
   ]
  },
  {
   "cell_type": "markdown",
   "id": "ec070b44",
   "metadata": {},
   "source": [
    "---\n",
    "\n",
    "## 5. Data Warehouse Concepts\n",
    "- **a.** Briefly explain the difference between OLAP and OLTP, including an example use case for each.\n",
    "- **b.** What is a *data mart*? When might you use one?\n",
    "- **c.** Describe what *slowly changing dimensions* (SCDs) are and why they matter.\n",
    "\n"
   ]
  },
  {
   "cell_type": "markdown",
   "id": "1295d516",
   "metadata": {},
   "source": [
    "### Answer\n",
    "\n",
    "#### a. OLAP vs OLTP\n",
    "\n",
    "- **OLAP (Online Analytical Processing):**  \n",
    "  - Designed for complex, read-heavy queries and aggregations on large volumes of data.  \n",
    "  - Supports business intelligence, reporting, and analytics.  \n",
    "  - *Example use case:* A retailer uses OLAP to analyze sales trends across regions and time periods.\n",
    "\n",
    "- **OLTP (Online Transaction Processing):**  \n",
    "  - Optimized for high-speed, write-heavy operations like inserts, updates, and deletes.  \n",
    "  - Supports daily business operations (e.g., order entry, banking transactions).  \n",
    "  - *Example use case:* An e-commerce website uses OLTP to process customer orders and inventory updates in real time.\n",
    "\n",
    "#### b. Data Mart\n",
    "\n",
    "- A **data mart** is a focused subset of a data warehouse, tailored for a specific business line, department, or team (e.g., finance, marketing).  \n",
    "- *Use case:* When a marketing team needs fast, dedicated access to campaign and customer data without querying the entire enterprise warehouse.\n",
    "\n",
    "#### c. Slowly Changing Dimensions (SCDs)\n",
    "\n",
    "- **Slowly Changing Dimensions** refer to dimension tables where attribute values may change over time (e.g., a customer's address or job title).  \n",
    "- They matter because tracking historical changes accurately is crucial for reliable analytics and reporting.  \n",
    "- *Example:*  \n",
    "  - **Type 1 SCD:** Overwrites old data (no history retained).  \n",
    "  - **Type 2 SCD:** Adds new rows for each change, preserving history (enables time-based analysis).\n",
    "\n",
    "\n"
   ]
  },
  {
   "cell_type": "markdown",
   "id": "4affd6a3",
   "metadata": {},
   "source": [
    "\n",
    "\n",
    "## 6. dbt Practice\n",
    "- **a.** Write a dbt model (SQL) that calculates total sales per product from a `sales` table.  \n",
    "- **b.** Write the yaml snippet to add a `not_null` and `unique` test on the `product_id` column of your model.\n",
    "\n"
   ]
  },
  {
   "cell_type": "markdown",
   "id": "58a4fbfe",
   "metadata": {},
   "source": [
    "### Answer\n",
    "\n",
    "-- dbt model: total sales per product\n",
    "```sql\n",
    "SELECT\n",
    "    product_id,\n",
    "    SUM(amount) AS total_sales\n",
    "FROM sales\n",
    "GROUP BY product_id;```\n"
   ]
  },
  {
   "cell_type": "markdown",
   "id": "7968d844",
   "metadata": {},
   "source": [
    "\n",
    "-- dbt test: Ensure product_id column is never null and unique\n",
    "```yaml\n",
    "\n",
    "version: 2\n",
    "models:\n",
    "  - name: total_sales_by_product\n",
    "    columns:\n",
    "      - name: product_id\n",
    "        tests:\n",
    "          - not_null\n",
    "          - unique\n",
    "\n",
    "```\n"
   ]
  },
  {
   "cell_type": "markdown",
   "id": "3fd62ad1",
   "metadata": {},
   "source": [
    "---\n",
    "## 7. Best Practices\n",
    "- **a.** List three best practices for designing data warehouse schemas.\n",
    "- **b.** Why is it recommended to use surrogate keys as primary keys?\n",
    "\n"
   ]
  },
  {
   "cell_type": "markdown",
   "id": "0b2ed9a6",
   "metadata": {},
   "source": [
    "### Answer\n",
    "\n",
    "- **a.** List three best practices for designing data warehouse schemas.\n",
    "  1. Use surrogate keys (integer IDs) as primary keys in fact and dimension tables.\n",
    "  2. Document schema, relationships, and data lineage to ensure clarity and maintainability.\n",
    "  3. Partition large tables by date or key for improved performance and scalability.\n",
    "\n",
    "- **b.** Why is it recommended to use surrogate keys as primary keys?\n",
    "  Surrogate keys are recommended as primary keys because they are unique, immutable, and not tied to business logic. This ensures that the keys remain consistent and reliable as the data evolves, and it simplifies the handling of changes in the business environment."
   ]
  },
  {
   "cell_type": "markdown",
   "id": "5af30951",
   "metadata": {},
   "source": [
    "---\n",
    "\n",
    "## Challenge\n",
    "\n",
    "**Ride-Sharing Analytics Warehouse**\n",
    "\n",
    "You are tasked with designing the data warehouse schema for a ride-sharing app. The app tracks drivers, riders, trips, and payments.\n",
    "\n",
    "- **a.** List the fact and dimension tables you would create. Specify keys and a few example columns for each.\n",
    "- **b.** Draw a schema diagram (or describe in text) showing the relationships between these tables.\n",
    "- **c.** Write SQL to join trips with drivers and riders to produce a report of all completed trips, including driver and rider names, trip duration, and payment amount.\n",
    "- **d.** Suggest one way to handle Slowly Changing Dimensions (SCD) for driver details (e.g., when a driver updates their vehicle).\n",
    "\n",
    "---"
   ]
  },
  {
   "cell_type": "markdown",
   "id": "bcf9cea6",
   "metadata": {
    "vscode": {
     "languageId": "plaintext"
    }
   },
   "source": [
    "### Answer\n",
    "\n",
    "#### a. Fact and Dimension Tables\n",
    "\n",
    "- **Fact Table:**\n",
    "    - `trips_fact`\n",
    "        - `trip_id` (PK)\n",
    "        - `driver_id` (FK)\n",
    "        - `rider_id` (FK)\n",
    "        - `start_time`\n",
    "        - `end_time`\n",
    "        - `distance`\n",
    "        - `payment_id` (FK)\n",
    "\n",
    "- **Dimension Tables:**\n",
    "    - `drivers_dim`\n",
    "        - `driver_id` (PK)\n",
    "        - `name`\n",
    "        - `car_info`\n",
    "        - `license_number`\n",
    "    - `riders_dim`\n",
    "        - `rider_id` (PK)\n",
    "        - `name`\n",
    "        - `email`\n",
    "    - `payments_dim`\n",
    "        - `payment_id` (PK)\n",
    "        - `trip_id` (FK)\n",
    "        - `amount`\n",
    "        - `payment_time`\n",
    "        - `method`\n",
    "\n",
    "#### b. Schema Diagram Description\n",
    "\n",
    "- `trips_fact` (central fact) references:\n",
    "    - `drivers_dim` via `driver_id`\n",
    "    - `riders_dim` via `rider_id`\n",
    "    - `payments_dim` via `payment_id`\n",
    "- `payments_dim` references `trips_fact` via `trip_id`\n",
    "- This forms a star schema with `trips_fact` at the center and dimensions surrounding it.\n",
    "\n",
    "#### c. SQL Join for Completed Trip Report\n",
    "\n",
    "```sql\n",
    "SELECT\n",
    "    t.trip_id,\n",
    "    d.name AS driver_name,\n",
    "    r.name AS rider_name,\n",
    "    t.start_time,\n",
    "    t.end_time,\n",
    "    (EXTRACT(EPOCH FROM t.end_time) - EXTRACT(EPOCH FROM t.start_time))/60 AS duration_minutes,\n",
    "    p.amount AS payment_amount\n",
    "FROM\n",
    "    trips t\n",
    "JOIN\n",
    "    drivers d ON t.driver_id = d.driver_id\n",
    "JOIN\n",
    "    riders r ON t.rider_id = r.rider_id\n",
    "JOIN\n",
    "    payments p ON t.trip_id = p.trip_id\n",
    "WHERE\n",
    "    t.end_time IS NOT NULL; -- Completed trips only\n",
    "```\n",
    "\n",
    "#### d. Handling Slowly Changing Dimensions (SCD) for Drivers\n",
    "\n",
    "- **Type 2 SCD Approach:**  \n",
    "    - Add `driver_sk` (surrogate PK), `driver_id` (business key), `car_info`, `valid_from`, `valid_to`, and `is_current` columns to `drivers_dim`.\n",
    "    - On update, insert a new row with updated `car_info`, set previous row's `valid_to` and `is_current = FALSE`, and new row's `is_current = TRUE`.\n",
    "    - This allows historical queries on driver details as of any point in time.\n"
   ]
  },
  {
   "cell_type": "markdown",
   "id": "1a6505a9",
   "metadata": {},
   "source": []
  }
 ],
 "metadata": {
  "language_info": {
   "name": "python"
  }
 },
 "nbformat": 4,
 "nbformat_minor": 5
}
