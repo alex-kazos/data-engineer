{
 "cells": [
  {
   "cell_type": "markdown",
   "metadata": {},
   "source": [
    "# SQL for Data Engineers: Exercise Results\n"
   ]
  },
  {
   "cell_type": "markdown",
   "metadata": {},
   "source": [
    "## 1. Basic SELECT\n",
    "\n",
    "- Retrieve every column and every row from the `products` table using a SQL query.\n",
    "- This exercise helps you practice the most fundamental SQL operation: selecting all data from a table.\n"
   ]
  },
  {
   "cell_type": "code",
   "execution_count": null,
   "metadata": {
    "vscode": {
     "languageId": "sql"
    }
   },
   "outputs": [],
   "source": [
    "SELECT \n",
    "    product_id, \n",
    "    name, \n",
    "    category, \n",
    "    price\n",
    "FROM \n",
    "    products\n",
    "ORDER BY \n",
    "    name;\n"
   ]
  },
  {
   "cell_type": "markdown",
   "metadata": {},
   "source": [
    "## 2. Filtering\n",
    "- Retrieve all records from the `customers` table where the customer's country is 'USA'. Use a `WHERE` clause to filter the results based on the `country` column.\n"
   ]
  },
  {
   "cell_type": "code",
   "execution_count": null,
   "metadata": {
    "vscode": {
     "languageId": "sql"
    }
   },
   "outputs": [],
   "source": [
    "SELECT \n",
    "    customer_id, \n",
    "    name, \n",
    "    country\n",
    "FROM \n",
    "    customers\n",
    "WHERE \n",
    "    country = 'USA';\n"
   ]
  },
  {
   "cell_type": "markdown",
   "metadata": {},
   "source": [
    "\n",
    "## 3. Sorting\n",
    "- Retrieve all records from the `orders` table and display them in order from the most recent to the oldest based on the `order_date` column.\n"
   ]
  },
  {
   "cell_type": "code",
   "execution_count": null,
   "metadata": {
    "vscode": {
     "languageId": "sql"
    }
   },
   "outputs": [],
   "source": [
    "SELECT order_id, customer_id, order_date, total_amount \n",
    "FROM orders \n",
    "ORDER BY order_date DESC;\n"
   ]
  },
  {
   "cell_type": "markdown",
   "metadata": {},
   "source": [
    "## 4. Aggregation\n",
    "- Calculate the average value of the `price` column in the `sales` table to analyze typical transaction amounts.\n"
   ]
  },
  {
   "cell_type": "code",
   "execution_count": null,
   "metadata": {
    "vscode": {
     "languageId": "sql"
    }
   },
   "outputs": [],
   "source": [
    "-- Calculate the average price of all sales\n",
    "SELECT \n",
    "    ROUND(AVG(price), 2) AS avg_price\n",
    "FROM \n",
    "    sales;\n"
   ]
  },
  {
   "cell_type": "markdown",
   "metadata": {},
   "source": [
    "## 5. JOIN\n",
    "- Write an SQL query to combine data from the `orders` and `customers` tables by matching their `customer_id` columns. Retrieve all columns from both tables for each matching order and customer.\n"
   ]
  },
  {
   "cell_type": "code",
   "execution_count": null,
   "metadata": {
    "vscode": {
     "languageId": "sql"
    }
   },
   "outputs": [],
   "source": [
    "SELECT\n",
    "    o.order_id,\n",
    "    o.order_date,\n",
    "    o.customer_id,\n",
    "    c.name AS customer_name,\n",
    "    c.country\n",
    "FROM\n",
    "    orders o\n",
    "INNER JOIN\n",
    "    customers c ON o.customer_id = c.customer_id;\n"
   ]
  },
  {
   "cell_type": "markdown",
   "metadata": {},
   "source": [
    "\n",
    "## 6. GROUP BY\n",
    "- Write a query to determine how many orders each customer has placed. Group the results by `customer_id` in the `orders` table and return both the customer identifier and their corresponding order count.\n"
   ]
  },
  {
   "cell_type": "code",
   "execution_count": null,
   "metadata": {
    "vscode": {
     "languageId": "sql"
    }
   },
   "outputs": [],
   "source": [
    "SELECT \n",
    "    customer_id, \n",
    "    COUNT(*) AS order_count\n",
    "FROM \n",
    "    orders\n",
    "GROUP BY \n",
    "    customer_id;\n"
   ]
  },
  {
   "cell_type": "markdown",
   "metadata": {},
   "source": [
    "## 7. Subquery\n",
    "- Write a query to find all products whose price is greater than the average price of all products. Use a subquery to calculate the average price.\n"
   ]
  },
  {
   "cell_type": "code",
   "execution_count": null,
   "metadata": {
    "vscode": {
     "languageId": "sql"
    }
   },
   "outputs": [],
   "source": [
    "SELECT \n",
    "    *\n",
    "FROM \n",
    "    products\n",
    "WHERE \n",
    "    price > (\n",
    "        SELECT AVG(price)\n",
    "        FROM products\n",
    "    );\n"
   ]
  },
  {
   "cell_type": "markdown",
   "metadata": {},
   "source": [
    "\n",
    "## 8. Window Function\n",
    "- Write a query that assigns a unique row number to each product, ordered by price from highest to lowest, using a window function.\n"
   ]
  },
  {
   "cell_type": "code",
   "execution_count": null,
   "metadata": {
    "vscode": {
     "languageId": "sql"
    }
   },
   "outputs": [],
   "source": [
    "SELECT\n",
    "    product_id,\n",
    "    name,\n",
    "    price,\n",
    "    ROW_NUMBER() OVER (ORDER BY price DESC) AS row_num\n",
    "FROM\n",
    "    products;\n"
   ]
  },
  {
   "cell_type": "markdown",
   "metadata": {},
   "source": [
    "---\n",
    "\n",
    "### Challenge\n",
    "- Write a SQL query to retrieve the three customers who have spent the most in total purchases. Your query should calculate each customer's total purchase amount (sum of all their purchases), order the results from highest to lowest spender, and return the top three customers along with their total purchase amounts.\n"
   ]
  },
  {
   "cell_type": "code",
   "execution_count": null,
   "metadata": {
    "vscode": {
     "languageId": "sql"
    }
   },
   "outputs": [],
   "source": [
    "SELECT \n",
    "    customer_id, \n",
    "    SUM(amount) AS total_purchase_amount \n",
    "FROM \n",
    "    sales \n",
    "GROUP BY \n",
    "    customer_id \n",
    "ORDER BY \n",
    "    total_purchase_amount DESC \n",
    "LIMIT \n",
    "    3;\n"
   ]
  }
 ],
 "metadata": {
  "language_info": {
   "name": "python"
  }
 },
 "nbformat": 4,
 "nbformat_minor": 2
}
