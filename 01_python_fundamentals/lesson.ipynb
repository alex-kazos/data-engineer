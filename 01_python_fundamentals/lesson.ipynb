{
 "cells": [
  {
   "cell_type": "markdown",
   "metadata": {},
   "source": [
    "# Python Fundamentals: Guided Lesson\n",
    "This notebook will walk you through the basics of Python for data engineering.\n"
   ]
  },
  {
   "cell_type": "markdown",
   "metadata": {},
   "source": [
    "# Variables and Data Types"
   ]
  },
  {
   "cell_type": "code",
   "execution_count": null,
   "metadata": {},
   "outputs": [],
   "source": [
    "name = 'Alice'\n",
    "age = 30\n",
    "gpa = 3.75\n",
    "is_active = True\n",
    "scores = [90, 85, 92]\n",
    "print(f'Name: {name}, Age: {age}, GPA: {gpa}, Active: {is_active}')\n",
    "print('Scores:', scores)"
   ]
  },
  {
   "cell_type": "markdown",
   "metadata": {},
   "source": [
    "# Loops and Conditionals"
   ]
  },
  {
   "cell_type": "code",
   "execution_count": null,
   "metadata": {},
   "outputs": [],
   "source": [
    "if age > 18:\n",
    "    print('Adult')\n",
    "else:\n",
    "    print('Minor')\n",
    "\n",
    "for score in scores:\n",
    "    print('Score:', score)\n",
    "\n",
    "count = 0\n",
    "while count < 3:\n",
    "    print('Count:', count)\n",
    "    count += 1"
   ]
  },
  {
   "cell_type": "markdown",
   "metadata": {},
   "source": [
    "# Functions and Modules"
   ]
  },
  {
   "cell_type": "code",
   "execution_count": null,
   "metadata": {},
   "outputs": [],
   "source": [
    "def greet(name):\n",
    "    return f'Hello, {name}!'\n",
    "\n",
    "print(greet('Bob'))\n",
    "\n",
    "import math\n",
    "print('Pi:', math.pi)"
   ]
  },
  {
   "cell_type": "markdown",
   "metadata": {},
   "source": [
    "# Error Handling and Logging"
   ]
  },
  {
   "cell_type": "code",
   "execution_count": null,
   "metadata": {},
   "outputs": [],
   "source": [
    "try:\n",
    "    value = int('abc')\n",
    "except ValueError as e:\n",
    "    print('Error:', e)\n",
    "\n",
    "import logging\n",
    "logging.basicConfig(level=logging.INFO)\n",
    "logging.info('Logging is working!')"
   ]
  },
  {
   "cell_type": "markdown",
   "metadata": {},
   "source": [
    "# Working with Files"
   ]
  },
  {
   "cell_type": "code",
   "execution_count": null,
   "metadata": {},
   "outputs": [],
   "source": [
    "\n",
    "import csv\n",
    "with open('sample.csv', 'w', newline='') as f:\n",
    "    writer = csv.writer(f)\n",
    "    writer.writerow(['name', 'age'])\n",
    "    writer.writerow(['Alice', 30])\n",
    "\n",
    "with open('sample.csv', 'r') as f:\n",
    "    reader = csv.reader(f)\n",
    "    for row in reader:\n",
    "        print(row)\n",
    "\n",
    "import json\n",
    "data = {'name': 'Alice', 'age': 30}\n",
    "with open('sample.json', 'w') as f:\n",
    "    json.dump(data, f)\n",
    "\n",
    "with open('sample.json', 'r') as f:\n",
    "    loaded = json.load(f)\n",
    "    print(loaded)"
   ]
  }
 ],
 "metadata": {
  "kernelspec": {
   "display_name": "Python 3",
   "language": "python",
   "name": "python3"
  },
  "language_info": {
   "name": "python",
   "version": "3.8"
  }
 },
 "nbformat": 4,
 "nbformat_minor": 2
}
