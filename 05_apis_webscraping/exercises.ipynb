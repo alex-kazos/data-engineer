{
 "cells": [
  {
   "cell_type": "markdown",
   "id": "b5e850ef",
   "metadata": {},
   "source": [
    "# APIs and Web Scraping: Exercises\n"
   ]
  },
  {
   "cell_type": "markdown",
   "id": "5f9751e4",
   "metadata": {},
   "source": [
    "\n",
    "## 1. Public API GET Request\n",
    "- Practice retrieving data from a public REST API using Python.\n",
    "- Make an HTTP GET request to a sample API endpoint (such as a placeholder API).\n",
    "- Parse and print the JSON response.\n",
    "- This exercise builds foundational skills for working with external data sources and understanding HTTP requests in data engineering workflows.\n"
   ]
  },
  {
   "cell_type": "code",
   "execution_count": null,
   "id": "5e7488b3",
   "metadata": {},
   "outputs": [],
   "source": [
    "# Your code here"
   ]
  },
  {
   "cell_type": "markdown",
   "id": "eacdfa76",
   "metadata": {},
   "source": [
    "## 2. Authentication\n",
    "- Make a request to an API endpoint that requires authentication using an API key (use a publicly available test or demo key).\n",
    "- Add the API key to your request via headers or query parameters as specified by the API documentation.\n",
    "- Print the response and briefly explain where the API key was used in your code.\n"
   ]
  },
  {
   "cell_type": "code",
   "execution_count": null,
   "id": "ad49c428",
   "metadata": {},
   "outputs": [],
   "source": [
    "# Your code here"
   ]
  },
  {
   "cell_type": "markdown",
   "id": "da266d7a",
   "metadata": {},
   "source": [
    "## 3. Parse JSON Response\n",
    "- Retrieve data from an API in JSON format, extract a specific field (e.g., the title of the first post), and print its value. This exercise helps you practice working with JSON data and accessing nested fields using Python dictionaries.\n"
   ]
  },
  {
   "cell_type": "code",
   "execution_count": null,
   "id": "cde4e78c",
   "metadata": {},
   "outputs": [],
   "source": [
    "# Your code here"
   ]
  },
  {
   "cell_type": "markdown",
   "id": "657f7939",
   "metadata": {},
   "source": [
    "## 4. Web Scraping\n",
    "- Use BeautifulSoup to extract the title from a provided HTML string.\n",
    "- Practice parsing and navigating HTML documents programmatically.\n",
    "- This exercise will help you become familiar with web scraping fundamentals.\n"
   ]
  },
  {
   "cell_type": "code",
   "execution_count": null,
   "id": "0c5204e4",
   "metadata": {},
   "outputs": [],
   "source": [
    "# Your code here"
   ]
  },
  {
   "cell_type": "markdown",
   "id": "5ab2e3e8",
   "metadata": {},
   "source": [
    "---\n",
    "\n",
    "### Challenge\n",
    "- Practice ethical web scraping: Choose a popular news website, check its `robots.txt` file to confirm that scraping headlines is allowed, and then write Python code to extract all news headlines from the homepage using `requests` and BeautifulSoup. Print the list of headlines you collect.\n"
   ]
  },
  {
   "cell_type": "code",
   "execution_count": null,
   "id": "74ce4523",
   "metadata": {},
   "outputs": [],
   "source": [
    "# Your code here"
   ]
  }
 ],
 "metadata": {
  "language_info": {
   "name": "python"
  }
 },
 "nbformat": 4,
 "nbformat_minor": 5
}
