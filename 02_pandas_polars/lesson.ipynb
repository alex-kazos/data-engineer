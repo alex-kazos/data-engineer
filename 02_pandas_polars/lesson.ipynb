{
 "cells": [
  {
   "cell_type": "markdown",
   "metadata": {},
   "source": [
    "# Pandas & Polars: Lesson Notebook"
   ]
  },
  {
   "cell_type": "markdown",
   "metadata": {},
   "source": [
    "\n",
    "## 1. Introduction\n",
    "Pandas and Polars are Python libraries for data manipulation. Pandas is widely used; Polars is much faster for big data."
   ]
  },
  {
   "cell_type": "markdown",
   "metadata": {},
   "source": [
    "## 2. Importing Libraries"
   ]
  },
  {
   "cell_type": "code",
   "execution_count": null,
   "metadata": {},
   "outputs": [],
   "source": [
    "import pandas as pd\n",
    "import polars as pl"
   ]
  },
  {
   "cell_type": "markdown",
   "metadata": {},
   "source": [
    "## 3. Creating DataFrames"
   ]
  },
  {
   "cell_type": "code",
   "execution_count": null,
   "metadata": {},
   "outputs": [],
   "source": [
    "# Pandas\n",
    "pdf = pd.DataFrame({'a': [1, 2], 'b': [3, 4]})\n",
    "print(pdf)\n",
    "\n",
    "# Polars\n",
    "pldf = pl.DataFrame({'a': [1, 2], 'b': [3, 4]})\n",
    "print(pldf)\n"
   ]
  },
  {
   "cell_type": "markdown",
   "metadata": {},
   "source": [
    "## 4. Reading Data"
   ]
  },
  {
   "cell_type": "code",
   "execution_count": null,
   "metadata": {},
   "outputs": [],
   "source": [
    "# Pandas\n",
    "pdf = pd.read_csv('data.csv')\n",
    "# Polars\n",
    "pldf = pl.read_csv('data.csv')"
   ]
  },
  {
   "cell_type": "markdown",
   "metadata": {},
   "source": [
    "## 5. Inspecting Data\n"
   ]
  },
  {
   "cell_type": "code",
   "execution_count": null,
   "metadata": {},
   "outputs": [],
   "source": [
    "print(pdf.head())\n",
    "print(pdf.info())\n",
    "print(pldf.head())\n",
    "print(pldf.describe())"
   ]
  },
  {
   "cell_type": "markdown",
   "metadata": {},
   "source": [
    "## 6. Selecting Data"
   ]
  },
  {
   "cell_type": "code",
   "execution_count": null,
   "metadata": {},
   "outputs": [],
   "source": [
    "# Pandas\n",
    "print(pdf['a'])\n",
    "print(pdf.loc[0])\n",
    "\n",
    "# Polars\n",
    "print(pldf['a'])\n"
   ]
  },
  {
   "cell_type": "markdown",
   "metadata": {},
   "source": [
    "## 7. Filtering Data"
   ]
  },
  {
   "cell_type": "code",
   "execution_count": null,
   "metadata": {},
   "outputs": [],
   "source": [
    "# Pandas\n",
    "print(pdf[pdf['a'] > 1])\n",
    "\n",
    "# Polars\n",
    "print(pldf.filter(pldf['a'] > 1))\n"
   ]
  },
  {
   "cell_type": "markdown",
   "metadata": {},
   "source": [
    "\n",
    "## 8. Sorting Data\n"
   ]
  },
  {
   "cell_type": "code",
   "execution_count": null,
   "metadata": {},
   "outputs": [],
   "source": [
    "# Pandas\n",
    "print(pdf.sort_values('a'))\n",
    "\n",
    "# Polars\n",
    "print(pldf.sort('a'))"
   ]
  },
  {
   "cell_type": "markdown",
   "metadata": {},
   "source": [
    "\n",
    "## 9. Grouping and Aggregation"
   ]
  },
  {
   "cell_type": "code",
   "execution_count": null,
   "metadata": {},
   "outputs": [],
   "source": [
    "# Pandas\n",
    "print(pdf.groupby('a').sum())\n",
    "\n",
    "# Polars\n",
    "print(pldf.groupby('a').agg(pl.col('b').sum()))"
   ]
  },
  {
   "cell_type": "markdown",
   "metadata": {},
   "source": [
    "\n",
    "## 10. Handling Missing Data\n"
   ]
  },
  {
   "cell_type": "code",
   "execution_count": null,
   "metadata": {},
   "outputs": [],
   "source": [
    "# Pandas\n",
    "print(pdf.isnull())\n",
    "print(pdf.fillna(0))\n",
    "\n",
    "# Polars\n",
    "print(pldf.null_count())\n",
    "print(pldf.fill_null(0))"
   ]
  },
  {
   "cell_type": "markdown",
   "metadata": {},
   "source": [
    "## 11. Merging DataFrames"
   ]
  },
  {
   "cell_type": "code",
   "execution_count": null,
   "metadata": {},
   "outputs": [],
   "source": [
    "\n",
    "# Pandas\n",
    "pdf2 = pd.DataFrame({'a': [1, 2], 'c': [5, 6]})\n",
    "print(pd.merge(pdf, pdf2, on='a'))\n",
    "\n",
    "# Polars\n",
    "pldf2 = pl.DataFrame({'a': [1, 2], 'c': [5, 6]})\n",
    "print(pldf.join(pldf2, on='a'))"
   ]
  },
  {
   "cell_type": "markdown",
   "metadata": {},
   "source": [
    "## 12. Writing Data"
   ]
  },
  {
   "cell_type": "code",
   "execution_count": null,
   "metadata": {},
   "outputs": [],
   "source": [
    "# Pandas\n",
    "pdf.to_csv('out.csv', index=False)\n",
    "\n",
    "# Polars\n",
    "pldf.write_csv('out.csv')"
   ]
  },
  {
   "cell_type": "markdown",
   "metadata": {},
   "source": [
    "## 13. Performance Tips\n",
    "- Use Polars for large or complex data\n",
    "- Avoid Pandas `.apply()` for speed"
   ]
  },
  {
   "cell_type": "markdown",
   "metadata": {},
   "source": [
    "## 14. References\n",
    "- [Pandas Docs](https://pandas.pydata.org/)\n",
    "- [Polars Docs](https://pola-rs.github.io/polars/py-polars/html/reference/)\n"
   ]
  },
  {
   "cell_type": "markdown",
   "metadata": {},
   "source": []
  }
 ],
 "metadata": {
  "language_info": {
   "name": "python"
  }
 },
 "nbformat": 4,
 "nbformat_minor": 2
}
