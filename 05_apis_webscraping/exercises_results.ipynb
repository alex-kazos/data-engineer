{
 "cells": [
  {
   "cell_type": "markdown",
   "id": "b5e850ef",
   "metadata": {},
   "source": [
    "# APIs and Web Scraping: Exercise Results\n",
    "\n",
    "## 1. API Request\n",
    "- Make a GET request to a public API and print the results.\n"
   ]
  },
  {
   "cell_type": "code",
   "execution_count": null,
   "id": "5e7488b3",
   "metadata": {},
   "outputs": [],
   "source": [
    "import requests\n",
    "\n",
    "resp = requests.get('https://jsonplaceholder.typicode.com/posts')\n",
    "print(resp.json())\n"
   ]
  },
  {
   "cell_type": "markdown",
   "id": "eacdfa76",
   "metadata": {},
   "source": [
    "\n",
    "## 2. Authentication\n",
    "- Access an API that requires an API key (use a test or demo key).\n"
   ]
  },
  {
   "cell_type": "code",
   "execution_count": null,
   "id": "ad49c428",
   "metadata": {},
   "outputs": [],
   "source": [
    "headers = {'Authorization': 'Bearer DEMO_KEY'}\n",
    "resp = requests.get('https://api.example.com/data', headers=headers)\n"
   ]
  },
  {
   "cell_type": "markdown",
   "id": "da266d7a",
   "metadata": {},
   "source": [
    "\n",
    "## 3. Parse JSON\n",
    "- Parse the JSON response and print a specific field.\n"
   ]
  },
  {
   "cell_type": "code",
   "execution_count": null,
   "id": "cde4e78c",
   "metadata": {},
   "outputs": [],
   "source": [
    "import json\n",
    "\n",
    "data = resp.json()\n",
    "print(data['field'])"
   ]
  },
  {
   "cell_type": "markdown",
   "id": "657f7939",
   "metadata": {},
   "source": [
    "\n",
    "## 4. Web Scraping\n",
    "- Scrape the title from a sample HTML page using BeautifulSoup.\n"
   ]
  },
  {
   "cell_type": "code",
   "execution_count": null,
   "id": "0c5204e4",
   "metadata": {},
   "outputs": [],
   "source": [
    "from bs4 import BeautifulSoup\n",
    "html = '<html><title>Test</title></html>'\n",
    "soup = BeautifulSoup(html, 'html.parser')\n",
    "print(soup.title.text)"
   ]
  },
  {
   "cell_type": "markdown",
   "id": "5ab2e3e8",
   "metadata": {},
   "source": [
    "\n",
    "---\n",
    "\n",
    "### Challenge\n",
    "- Scrape all headlines from the homepage of a news website (respect robots.txt).\n"
   ]
  },
  {
   "cell_type": "code",
   "execution_count": null,
   "id": "74ce4523",
   "metadata": {},
   "outputs": [],
   "source": [
    "# Example for news headlines (simplified)\n",
    "resp = requests.get('https://news.ycombinator.com/')\n",
    "soup = BeautifulSoup(resp.text, 'html.parser')\n",
    "headlines = [a.text for a in soup.find_all('a', class_='storylink')]\n",
    "print(headlines)"
   ]
  }
 ],
 "metadata": {
  "language_info": {
   "name": "python"
  }
 },
 "nbformat": 4,
 "nbformat_minor": 5
}
