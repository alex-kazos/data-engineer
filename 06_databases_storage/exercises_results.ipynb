{
 "cells": [
  {
   "cell_type": "markdown",
   "id": "b5bf730d",
   "metadata": {
    "vscode": {
     "languageId": "plaintext"
    }
   },
   "source": [
    "# Databases and Storage: Exercise Results\n"
   ]
  },
  {
   "cell_type": "markdown",
   "id": "d35c078e",
   "metadata": {},
   "source": [
    "## 1. Database Connection and Table Listing\n",
    "- Write Python code to establish a connection to a local SQLite or PostgreSQL database.\n",
    "- After connecting, retrieve and display the names of all tables present in the database.\n",
    "- This exercise will help you practice database connectivity and schema exploration using Python.\n"
   ]
  },
  {
   "cell_type": "code",
   "execution_count": null,
   "id": "b9c721a3",
   "metadata": {},
   "outputs": [],
   "source": [
    "# ## 1. Database Connection and Table Listing\n",
    "# Connect to a local SQLite database and list all tables\n",
    "\n",
    "import sqlite3\n",
    "\n",
    "# Establish connection to SQLite database (creates 'test.db' if it doesn't exist)\n",
    "conn = sqlite3.connect('test.db')\n",
    "cursor = conn.cursor()\n",
    "\n",
    "# Retrieve all table names in the database\n",
    "cursor.execute(\"SELECT name FROM sqlite_master WHERE type='table';\")\n",
    "tables = cursor.fetchall()\n",
    "\n",
    "print(\"Tables in the database:\")\n",
    "for table in tables:\n",
    "    print(table[0])\n",
    "\n",
    "cursor.close()\n",
    "conn.close()\n"
   ]
  },
  {
   "cell_type": "markdown",
   "id": "425ec797",
   "metadata": {
    "vscode": {
     "languageId": "plaintext"
    }
   },
   "source": [
    "## 2. CRUD Operations\n",
    "\n",
    "- Practice the four essential database operations: **Create**, **Read**, **Update**, and **Delete** (CRUD).\n",
    "- Write Python code that connects to a database table and demonstrates each operation:\n",
    "    - Insert a new record into the table.\n",
    "    - Retrieve and display records based on a condition.\n",
    "    - Update an existing record.\n",
    "    - Delete a record from the table.\n",
    "- Use parameterized queries for safety and ensure each step prints out the results to verify correctness.\n"
   ]
  },
  {
   "cell_type": "code",
   "execution_count": null,
   "id": "dfdd8440",
   "metadata": {},
   "outputs": [],
   "source": [
    "import sqlite3\n",
    "\n",
    "# Connect to the database\n",
    "conn = sqlite3.connect('test.db')\n",
    "cursor = conn.cursor()\n",
    "\n",
    "# Create table (if not exists)\n",
    "cursor.execute(\"CREATE TABLE IF NOT EXISTS users (id INTEGER PRIMARY KEY AUTOINCREMENT, name TEXT)\")\n",
    "\n",
    "# 1. Insert a new record\n",
    "cursor.execute(\"INSERT INTO users (name) VALUES (?)\", ('Alice',))\n",
    "conn.commit()\n",
    "print(\"After Insert:\")\n",
    "cursor.execute(\"SELECT * FROM users\")\n",
    "print(cursor.fetchall())\n",
    "\n",
    "# 2. Retrieve and display records based on a condition\n",
    "cursor.execute(\"SELECT * FROM users WHERE name = ?\", ('Alice',))\n",
    "print(\"Select where name='Alice':\")\n",
    "print(cursor.fetchall())\n",
    "\n",
    "# 3. Update an existing record\n",
    "cursor.execute(\"UPDATE users SET name = ? WHERE name = ?\", ('Bob', 'Alice'))\n",
    "conn.commit()\n",
    "print(\"After Update:\")\n",
    "cursor.execute(\"SELECT * FROM users\")\n",
    "print(cursor.fetchall())\n",
    "\n",
    "# 4. Delete a record\n",
    "cursor.execute(\"DELETE FROM users WHERE name = ?\", ('Bob',))\n",
    "conn.commit()\n",
    "print(\"After Delete:\")\n",
    "cursor.execute(\"SELECT * FROM users\")\n",
    "print(cursor.fetchall())\n",
    "\n",
    "# Clean up\n",
    "conn.close()\n"
   ]
  },
  {
   "cell_type": "markdown",
   "id": "3010adff",
   "metadata": {},
   "source": [
    "\n",
    "## 3. NoSQL Practice\n",
    "\n",
    "- Practice working with NoSQL databases using Python.\n",
    "- Insert a sample user document into MongoDB and retrieve it.\n",
    "- Store a key-value pair in Redis and fetch the stored value.\n",
    "- Explore the basic operations and data models of document and key-value stores.\n"
   ]
  },
  {
   "cell_type": "code",
   "execution_count": null,
   "id": "cddf1cd0",
   "metadata": {},
   "outputs": [],
   "source": [
    "# NoSQL Practice: MongoDB (Document Store) & Redis (Key-Value Store)\n",
    "\n",
    "# --- MongoDB: Insert and Retrieve a Document ---\n",
    "from pymongo import MongoClient\n",
    "\n",
    "# Connect to local MongoDB server\n",
    "client = MongoClient('mongodb://localhost:27017/')\n",
    "db = client['test']\n",
    "\n",
    "# Insert a sample user document\n",
    "user_doc = {'name': 'Alice', 'email': 'alice@example.com', 'age': 30}\n",
    "db.users.insert_one(user_doc)\n",
    "\n",
    "# Retrieve the inserted document\n",
    "retrieved_user = db.users.find_one({'name': 'Alice'})\n",
    "print(\"MongoDB document:\", retrieved_user)\n",
    "\n",
    "# --- Redis: Store and Retrieve a Key-Value Pair ---\n",
    "import redis\n",
    "\n",
    "# Connect to local Redis server\n",
    "r = redis.Redis(host='localhost', port=6379, db=0)\n",
    "\n",
    "# Store a key-value pair\n",
    "r.set('user:1001', 'Alice')\n",
    "\n",
    "# Retrieve the value\n",
    "value = r.get('user:1001')\n",
    "print(\"Redis value:\", value.decode() if value else None)"
   ]
  },
  {
   "cell_type": "markdown",
   "id": "f1d61600",
   "metadata": {},
   "source": [
    "\n",
    "## 4. Cloud Object Storage with AWS S3\n",
    "- Use Python and boto3 to upload a local file to an AWS S3 bucket and then download it back to your machine.\n",
    "- Demonstrate both the upload and download steps in your code.\n",
    "- Use a test bucket and a sample file (e.g., 'local.txt'). Ensure your AWS credentials are configured.\n"
   ]
  },
  {
   "cell_type": "code",
   "execution_count": null,
   "id": "312ebafe",
   "metadata": {},
   "outputs": [],
   "source": [
    "import boto3\n",
    "\n",
    "# Initialize S3 client (ensure AWS credentials are configured)\n",
    "s3 = boto3.client('s3')\n",
    "\n",
    "# Define bucket and file names\n",
    "bucket_name = 'your-test-bucket'  # replace with your test bucket name\n",
    "local_file = 'local.txt'\n",
    "s3_key = 'remote.txt'\n",
    "downloaded_file = 'downloaded.txt'\n",
    "\n",
    "# Upload local file to S3 bucket\n",
    "s3.upload_file(local_file, bucket_name, s3_key)\n",
    "print(f\"Uploaded {local_file} to s3://{bucket_name}/{s3_key}\")\n",
    "\n",
    "# Download the file back from S3\n",
    "s3.download_file(bucket_name, s3_key, downloaded_file)\n",
    "print(f\"Downloaded s3://{bucket_name}/{s3_key} to {downloaded_file}\")\n"
   ]
  },
  {
   "cell_type": "markdown",
   "id": "d4fa812b",
   "metadata": {},
   "source": [
    "---\n",
    "\n",
    "### Challenge\n",
    "- Investigate the impact of adding an index to a large database table.\n",
    "- Measure and compare the query execution times before and after creating an index on a frequently filtered or sorted column.\n",
    "- Use the `EXPLAIN` command in SQL to analyze and compare the query plans with and without the index.\n",
    "- Summarize your findings on how indexing affects query performance and execution strategy.\n"
   ]
  },
  {
   "cell_type": "code",
   "execution_count": null,
   "id": "8a46f7c3",
   "metadata": {},
   "outputs": [],
   "source": [
    "import sqlite3\n",
    "import time\n",
    "\n",
    "# Setup: Create a large table and populate with data\n",
    "conn = sqlite3.connect('test.db')\n",
    "cursor = conn.cursor()\n",
    "cursor.execute('DROP TABLE IF EXISTS sales')\n",
    "cursor.execute('CREATE TABLE sales (id INTEGER PRIMARY KEY, customer TEXT, amount REAL, region TEXT)')\n",
    "# Insert many rows\n",
    "rows = [('Customer{}'.format(i % 1000), float(i % 100), 'Region{}'.format(i % 10)) for i in range(200_000)]\n",
    "cursor.executemany('INSERT INTO sales (customer, amount, region) VALUES (?, ?, ?)', rows)\n",
    "conn.commit()\n",
    "\n",
    "# 1. Query execution time before index\n",
    "query = \"SELECT * FROM sales WHERE customer = 'Customer123'\"\n",
    "start = time.time()\n",
    "cursor.execute(query)\n",
    "result1 = cursor.fetchall()\n",
    "time_no_index = time.time() - start\n",
    "\n",
    "# 2. EXPLAIN plan before index\n",
    "cursor.execute('EXPLAIN QUERY PLAN ' + query)\n",
    "explain_no_index = cursor.fetchall()\n",
    "\n",
    "# 3. Create index on customer column\n",
    "cursor.execute('CREATE INDEX idx_customer ON sales(customer)')\n",
    "conn.commit()\n",
    "\n",
    "# 4. Query execution time after index\n",
    "start = time.time()\n",
    "cursor.execute(query)\n",
    "result2 = cursor.fetchall()\n",
    "time_with_index = time.time() - start\n",
    "\n",
    "# 5. EXPLAIN plan after index\n",
    "cursor.execute('EXPLAIN QUERY PLAN ' + query)\n",
    "explain_with_index = cursor.fetchall()\n",
    "\n",
    "print(f\"Rows returned: {len(result1)}\")\n",
    "print(f\"Time WITHOUT index: {time_no_index:.4f} seconds\")\n",
    "print(\"EXPLAIN plan WITHOUT index:\", explain_no_index)\n",
    "print(f\"Time WITH index: {time_with_index:.4f} seconds\")\n",
    "print(\"EXPLAIN plan WITH index:\", explain_with_index)\n",
    "\n",
    "# 6. Summary\n",
    "if time_with_index < time_no_index:\n",
    "    print(\"\\nSummary: Adding an index on the 'customer' column significantly reduced query execution time and changed the query plan to use the index, demonstrating the performance benefits of indexing for large tables.\")\n",
    "else:\n",
    "    print(\"\\nSummary: Indexing did not provide a measurable speedup for this query. This may be due to table size, data distribution, or database caching. In production, indexes typically accelerate queries on large tables for frequently filtered/sorted columns.\")\n",
    "\n",
    "cursor.close()\n",
    "conn.close()\n"
   ]
  }
 ],
 "metadata": {
  "language_info": {
   "name": "python"
  }
 },
 "nbformat": 4,
 "nbformat_minor": 5
}
