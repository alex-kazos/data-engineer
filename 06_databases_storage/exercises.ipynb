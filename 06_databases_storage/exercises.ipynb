{
 "cells": [
  {
   "cell_type": "markdown",
   "id": "b5bf730d",
   "metadata": {
    "vscode": {
     "languageId": "plaintext"
    }
   },
   "source": [
    "# Databases and Storage: Exercise Results\n"
   ]
  },
  {
   "cell_type": "markdown",
   "id": "c53caca0",
   "metadata": {},
   "source": [
    "## 1. Database Connection and Table Listing\n",
    "- Write Python code to establish a connection to a local SQLite or PostgreSQL database.\n",
    "- After connecting, retrieve and display the names of all tables present in the database.\n",
    "- This exercise will help you practice database connectivity and schema exploration using Python.\n"
   ]
  },
  {
   "cell_type": "code",
   "execution_count": null,
   "id": "b9c721a3",
   "metadata": {},
   "outputs": [],
   "source": [
    "# Your code here"
   ]
  },
  {
   "cell_type": "markdown",
   "id": "425ec797",
   "metadata": {
    "vscode": {
     "languageId": "plaintext"
    }
   },
   "source": [
    "## 2. CRUD Operations\n",
    "\n",
    "- Practice the four essential database operations: **Create**, **Read**, **Update**, and **Delete** (CRUD).\n",
    "- Write Python code that connects to a database table and demonstrates each operation:\n",
    "    - Insert a new record into the table.\n",
    "    - Retrieve and display records based on a condition.\n",
    "    - Update an existing record.\n",
    "    - Delete a record from the table.\n",
    "- Use parameterized queries for safety and ensure each step prints out the results to verify correctness.\n"
   ]
  },
  {
   "cell_type": "code",
   "execution_count": null,
   "id": "dfdd8440",
   "metadata": {},
   "outputs": [],
   "source": [
    "# Your code here"
   ]
  },
  {
   "cell_type": "markdown",
   "id": "3010adff",
   "metadata": {},
   "source": [
    "\n",
    "## 3. NoSQL Practice\n",
    "\n",
    "- Practice working with NoSQL databases using Python.\n",
    "- Insert a sample user document into MongoDB and retrieve it.\n",
    "- Store a key-value pair in Redis and fetch the stored value.\n",
    "- Explore the basic operations and data models of document and key-value stores.\n"
   ]
  },
  {
   "cell_type": "code",
   "execution_count": null,
   "id": "cddf1cd0",
   "metadata": {},
   "outputs": [],
   "source": [
    "# Your code here"
   ]
  },
  {
   "cell_type": "markdown",
   "id": "f1d61600",
   "metadata": {},
   "source": [
    "\n",
    "## 4. Cloud Object Storage with AWS S3\n",
    "- Use Python and boto3 to upload a local file to an AWS S3 bucket and then download it back to your machine.\n",
    "- Demonstrate both the upload and download steps in your code.\n",
    "- Use a test bucket and a sample file (e.g., 'local.txt'). Ensure your AWS credentials are configured.\n"
   ]
  },
  {
   "cell_type": "code",
   "execution_count": null,
   "id": "312ebafe",
   "metadata": {},
   "outputs": [],
   "source": [
    "# Your code here"
   ]
  },
  {
   "cell_type": "markdown",
   "id": "d4fa812b",
   "metadata": {},
   "source": [
    "---\n",
    "\n",
    "### Challenge\n",
    "- Investigate the impact of adding an index to a large database table.\n",
    "- Measure and compare the query execution times before and after creating an index on a frequently filtered or sorted column.\n",
    "- Use the `EXPLAIN` command in SQL to analyze and compare the query plans with and without the index.\n",
    "- Summarize your findings on how indexing affects query performance and execution strategy.\n"
   ]
  },
  {
   "cell_type": "code",
   "execution_count": null,
   "id": "5eb40a2c",
   "metadata": {},
   "outputs": [],
   "source": [
    "# Your code here"
   ]
  }
 ],
 "metadata": {
  "language_info": {
   "name": "python"
  }
 },
 "nbformat": 4,
 "nbformat_minor": 5
}
