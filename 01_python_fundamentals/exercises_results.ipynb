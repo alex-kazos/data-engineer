{
 "cells": [
  {
   "cell_type": "markdown",
   "metadata": {},
   "source": [
    "# Python Fundamentals: Exercises Results\n",
    "Test your skills with these exercises!\n"
   ]
  },
  {
   "cell_type": "markdown",
   "metadata": {},
   "source": [
    "## 1. Variables and Data Types\n",
    "- Define three variables: one for your name (string), one for your age (integer), and one for your favorite number (float or integer). \n",
    "- Print out each variable with a descriptive label so the output is clear and easy to understand.\n"
   ]
  },
  {
   "cell_type": "code",
   "execution_count": null,
   "metadata": {},
   "outputs": [],
   "source": [
    "# Variables for personal information\n",
    "my_name = \"Alice\"\n",
    "my_age = 25\n",
    "my_favorite_number = 7\n",
    "\n",
    "print(\"Name:\", my_name)\n",
    "print(\"Age:\", my_age)\n",
    "print(\"Favorite Number:\", my_favorite_number)\n"
   ]
  },
  {
   "cell_type": "markdown",
   "metadata": {},
   "source": [
    "## 2. Loops and Conditionals\n",
    "- Use a loop to print the numbers from 1 to 5, each on a new line.\n",
    "- For each number in that range, print whether it is 'Even' or 'Odd' using an if-else statement.\n"
   ]
  },
  {
   "cell_type": "code",
   "execution_count": null,
   "metadata": {},
   "outputs": [],
   "source": [
    "# Print numbers 1 to 5 and check if each is Even or Odd\n",
    "for i in range(1, 6):\n",
    "    print(i)\n",
    "    if i % 2 == 0:\n",
    "        print(\"Even\")\n",
    "    else:\n",
    "        print(\"Odd\")"
   ]
  },
  {
   "cell_type": "markdown",
   "metadata": {},
   "source": [
    "## 3. Functions\n",
    "- Write a function that takes two numbers as arguments, adds them together, and returns their sum. Test your function by calling it with different values and printing the results.\n"
   ]
  },
  {
   "cell_type": "code",
   "execution_count": null,
   "metadata": {},
   "outputs": [],
   "source": [
    "def add_numbers(a, b):\n",
    "    \"\"\"Return the sum of two numbers.\"\"\"\n",
    "    if not (isinstance(a, (int, float)) and isinstance(b, (int, float))):\n",
    "        raise TypeError(\"Both arguments must be numbers.\")\n",
    "    return a + b\n",
    "\n",
    "result = add_numbers(3, 5)\n",
    "print(f\"Sum: {result}\")"
   ]
  },
  {
   "cell_type": "markdown",
   "metadata": {},
   "source": [
    "## 4. Error Handling\n",
    "- Attempt to convert a non-numeric string (e.g., 'hello') into an integer. Use a try-except block to catch and handle the exception, displaying a user-friendly error message.\n"
   ]
  },
  {
   "cell_type": "code",
   "execution_count": null,
   "metadata": {},
   "outputs": [],
   "source": [
    "try:\n",
    "    value = int('hello')\n",
    "except ValueError as e:\n",
    "    print(f\"Error: {e}. Please enter a valid number.\")"
   ]
  },
  {
   "cell_type": "markdown",
   "metadata": {},
   "source": [
    "## 5. File Operations\n",
    "\n",
    "- Practice working with files in Python by saving a dictionary as a JSON file and then reading it back into a dictionary. This exercise helps you understand data serialization and persistence using the built-in `json` module.\n"
   ]
  },
  {
   "cell_type": "code",
   "execution_count": null,
   "metadata": {},
   "outputs": [],
   "source": [
    "import json\n",
    "\n",
    "data = {\"name\": \"Alice\", \"age\": 25}\n",
    "\n",
    "# Save dictionary to JSON file\n",
    "with open(\"data.json\", \"w\") as f:\n",
    "    json.dump(data, f)\n",
    "\n",
    "# Read dictionary back from JSON file\n",
    "with open(\"data.json\", \"r\") as f:\n",
    "    loaded_data = json.load(f)\n",
    "\n",
    "print(loaded_data)"
   ]
  }
 ],
 "metadata": {
  "kernelspec": {
   "display_name": "Python 3",
   "language": "python",
   "name": "python3"
  },
  "language_info": {
   "name": "python",
   "version": "3.8"
  }
 },
 "nbformat": 4,
 "nbformat_minor": 2
}
