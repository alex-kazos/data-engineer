{
 "cells": [
  {
   "cell_type": "markdown",
   "metadata": {},
   "source": [
    "# Python Fundamentals: Exercises\n",
    "Test your skills with these exercises!\n"
   ]
  },
  {
   "cell_type": "markdown",
   "metadata": {},
   "source": [
    "## 1. Variables and Data Types\n",
    "- Define three variables: one for your name (string), one for your age (integer), and one for your favorite number (float or integer). \n",
    "- Print out each variable with a descriptive label so the output is clear and easy to understand.\n"
   ]
  },
  {
   "cell_type": "code",
   "execution_count": null,
   "metadata": {},
   "outputs": [],
   "source": [
    "# Your code here\n"
   ]
  },
  {
   "cell_type": "markdown",
   "metadata": {},
   "source": [
    "## 2. Loops and Conditionals\n",
    "- Use a loop to print the numbers from 1 to 5, each on a new line.\n",
    "- For each number in that range, print whether it is 'Even' or 'Odd' using an if-else statement.\n"
   ]
  },
  {
   "cell_type": "code",
   "execution_count": null,
   "metadata": {},
   "outputs": [],
   "source": [
    "# Your code here\n"
   ]
  },
  {
   "cell_type": "markdown",
   "metadata": {},
   "source": [
    "## 3. Functions\n",
    "- Write a function that takes two numbers as arguments, adds them together, and returns their sum. Test your function by calling it with different values and printing the results.\n"
   ]
  },
  {
   "cell_type": "code",
   "execution_count": null,
   "metadata": {},
   "outputs": [],
   "source": [
    "# Your code here\n"
   ]
  },
  {
   "cell_type": "markdown",
   "metadata": {},
   "source": [
    "## 4. Error Handling\n",
    "- Attempt to convert a non-numeric string (e.g., 'hello') into an integer. Use a try-except block to catch and handle the exception, displaying a user-friendly error message.\n"
   ]
  },
  {
   "cell_type": "code",
   "execution_count": null,
   "metadata": {},
   "outputs": [],
   "source": [
    "# Your code here\n"
   ]
  },
  {
   "cell_type": "markdown",
   "metadata": {},
   "source": [
    "## 5. File Operations\n",
    "\n",
    "- Practice working with files in Python by saving a dictionary as a JSON file and then reading it back into a dictionary. This exercise helps you understand data serialization and persistence using the built-in `json` module.\n"
   ]
  },
  {
   "cell_type": "code",
   "execution_count": null,
   "metadata": {},
   "outputs": [],
   "source": [
    "# Your code here\n"
   ]
  }
 ],
 "metadata": {
  "kernelspec": {
   "display_name": "Python 3",
   "language": "python",
   "name": "python3"
  },
  "language_info": {
   "name": "python",
   "version": "3.8"
  }
 },
 "nbformat": 4,
 "nbformat_minor": 2
}
