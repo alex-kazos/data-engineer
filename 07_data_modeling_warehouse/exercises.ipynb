{
 "cells": [
  {
   "cell_type": "markdown",
   "id": "c53c2189",
   "metadata": {},
   "source": [
    "# Data Modeling & Warehouse Concepts: Exercises"
   ]
  },
  {
   "cell_type": "markdown",
   "id": "ec30831f",
   "metadata": {},
   "source": [
    "\n",
    "## 1. Data Modeling Fundamentals\n",
    "- **a.** Define *data modeling* in your own words. Why is it important in analytics and data engineering?\n",
    "- **b.** List and briefly describe the three types of data models: *conceptual*, *logical*, and *physical*."
   ]
  },
  {
   "cell_type": "markdown",
   "id": "0b0c64f5",
   "metadata": {
    "vscode": {
     "languageId": "plaintext"
    }
   },
   "source": [
    "#### Write your answer here"
   ]
  },
  {
   "cell_type": "markdown",
   "id": "4c6f3ad1",
   "metadata": {},
   "source": [
    "---\n",
    "## 2. Schema Design\n",
    "- **a.** Given a retail business scenario (sales, products, customers, dates), draw an ER diagram for both a **star schema** and a **snowflake schema**. Label fact and dimension tables.\n",
    "- **b.** Identify one advantage and one disadvantage of each schema type.\n",
    "\n"
   ]
  },
  {
   "cell_type": "markdown",
   "id": "dbd0eeb8",
   "metadata": {
    "vscode": {
     "languageId": "plaintext"
    }
   },
   "source": [
    "#### Write your answer here"
   ]
  },
  {
   "cell_type": "markdown",
   "id": "05b0bbf7",
   "metadata": {},
   "source": [
    "---\n",
    "## 3. Fact vs. Dimension Tables\n",
    "- **a.** For a simple online store, list at least two example fact tables and three dimension tables. Give 2–3 columns for each.\n",
    "- **b.** Explain the difference between a fact table’s and a dimension table’s typical contents.\n",
    "\n"
   ]
  },
  {
   "cell_type": "markdown",
   "id": "cc203bb4",
   "metadata": {},
   "source": [
    "#### Write your answer here"
   ]
  },
  {
   "cell_type": "markdown",
   "id": "026d656a",
   "metadata": {},
   "source": [
    "---\n",
    "\n",
    "## 4. Normalization & Denormalization Practice\n",
    "- **a.** Normalize the following customer table by splitting out the address fields into a separate table. Show your resulting table schemas.\n",
    "    ```\n",
    "    customers (customer_id, name, street, city, state, zip)\n",
    "    ```\n",
    "- **b.** Write an SQL statement to join the normalized `customers` and `addresses` tables to produce the original denormalized view.\n",
    "- **c.** Explain one benefit and one drawback of denormalizing tables for analytics.\n",
    "\n"
   ]
  },
  {
   "cell_type": "markdown",
   "id": "07dc9fb4",
   "metadata": {},
   "source": [
    "#### Write your answer here"
   ]
  },
  {
   "cell_type": "markdown",
   "id": "ec070b44",
   "metadata": {},
   "source": [
    "---\n",
    "\n",
    "## 5. Data Warehouse Concepts\n",
    "- **a.** Briefly explain the difference between OLAP and OLTP, including an example use case for each.\n",
    "- **b.** What is a *data mart*? When might you use one?\n",
    "- **c.** Describe what *slowly changing dimensions* (SCDs) are and why they matter.\n",
    "\n"
   ]
  },
  {
   "cell_type": "markdown",
   "id": "1295d516",
   "metadata": {},
   "source": [
    "#### Write your answer here"
   ]
  },
  {
   "cell_type": "markdown",
   "id": "4affd6a3",
   "metadata": {},
   "source": [
    "\n",
    "\n",
    "## 6. dbt Practice\n",
    "- **a.** Write a dbt model (SQL) that calculates total sales per product from a `sales` table.  \n",
    "- **b.** Write the yaml snippet to add a `not_null` and `unique` test on the `product_id` column of your model.\n",
    "\n"
   ]
  },
  {
   "cell_type": "markdown",
   "id": "58a4fbfe",
   "metadata": {},
   "source": [
    "#### Write your answer here"
   ]
  },
  {
   "cell_type": "markdown",
   "id": "3fd62ad1",
   "metadata": {},
   "source": [
    "---\n",
    "## 7. Best Practices\n",
    "- **a.** List three best practices for designing data warehouse schemas.\n",
    "- **b.** Why is it recommended to use surrogate keys as primary keys?\n",
    "\n"
   ]
  },
  {
   "cell_type": "markdown",
   "id": "0b2ed9a6",
   "metadata": {},
   "source": [
    "#### Write your answer here"
   ]
  },
  {
   "cell_type": "markdown",
   "id": "5af30951",
   "metadata": {},
   "source": [
    "---\n",
    "\n",
    "## Challenge\n",
    "\n",
    "**Ride-Sharing Analytics Warehouse**\n",
    "\n",
    "You are tasked with designing the data warehouse schema for a ride-sharing app. The app tracks drivers, riders, trips, and payments.\n",
    "\n",
    "- **a.** List the fact and dimension tables you would create. Specify keys and a few example columns for each.\n",
    "- **b.** Draw a schema diagram (or describe in text) showing the relationships between these tables.\n",
    "- **c.** Write SQL to join trips with drivers and riders to produce a report of all completed trips, including driver and rider names, trip duration, and payment amount.\n",
    "- **d.** Suggest one way to handle Slowly Changing Dimensions (SCD) for driver details (e.g., when a driver updates their vehicle).\n",
    "\n",
    "---"
   ]
  },
  {
   "cell_type": "markdown",
   "id": "bcf9cea6",
   "metadata": {
    "vscode": {
     "languageId": "plaintext"
    }
   },
   "source": [
    "#### Write your answer here"
   ]
  }
 ],
 "metadata": {
  "language_info": {
   "name": "python"
  }
 },
 "nbformat": 4,
 "nbformat_minor": 5
}
