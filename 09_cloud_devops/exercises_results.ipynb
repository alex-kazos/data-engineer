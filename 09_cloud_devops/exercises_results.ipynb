{
 "cells": [
  {
   "cell_type": "markdown",
   "id": "baab89a3",
   "metadata": {},
   "source": [
    "# Cloud & DevOps for Data Engineering: Exercise Results\n",
    "\n",
    "## 1. Docker Practice\n",
    "- Write a Dockerfile for a simple Python script and build the image.\n",
    "- Run the container and verify output.\n"
   ]
  },
  {
   "cell_type": "markdown",
   "id": "069fdd60",
   "metadata": {},
   "source": [
    "```dockerfile\n",
    "# Dockerfile\n",
    "FROM python:3.9\n",
    "COPY . /app\n",
    "WORKDIR /app\n",
    "CMD [\"python\", \"script.py\"]\n",
    "\n",
    "\n",
    "# Build: docker build -t myapp .\n",
    "# Run: docker run myapp\n",
    "```\n",
    "\n"
   ]
  },
  {
   "cell_type": "markdown",
   "id": "de33cf79",
   "metadata": {},
   "source": [
    "\n",
    "## 2. CI/CD Pipeline\n",
    "- Create a GitHub Actions workflow to run tests on every push.\n"
   ]
  },
  {
   "cell_type": "markdown",
   "id": "7cf501e3",
   "metadata": {},
   "source": [
    "```yaml\n",
    "# yaml file\n",
    "\n",
    "# .github/workflows/ci.yml\n",
    "name: CI\n",
    "on: [push]\n",
    "jobs:\n",
    "  build:\n",
    "    runs-on: ubuntu-latest\n",
    "    steps:\n",
    "      - uses: actions/checkout@v2\n",
    "      - name: Run tests\n",
    "        run: pytest\n",
    "```\n",
    "\n"
   ]
  },
  {
   "cell_type": "markdown",
   "id": "205db41d",
   "metadata": {},
   "source": [
    "\n",
    "## 3. Serverless Function\n",
    "- Write a Python AWS Lambda handler and test it locally (use AWS SAM or similar).\n"
   ]
  },
  {
   "cell_type": "code",
   "execution_count": null,
   "id": "88d76f45",
   "metadata": {},
   "outputs": [],
   "source": [
    "def handler(event, context):\n",
    "    return {'statusCode': 200, 'body': 'Hello from Lambda!'}\n"
   ]
  },
  {
   "cell_type": "markdown",
   "id": "6730ac97",
   "metadata": {},
   "source": [
    "\n",
    "## 4. Infrastructure as Code\n",
    "- Write a Terraform file to create an S3 bucket (use a test AWS account).\n"
   ]
  },
  {
   "cell_type": "markdown",
   "id": "e0246066",
   "metadata": {},
   "source": [
    "\n",
    "```hcl\n",
    "# hcl file\n",
    "\n",
    "resource \"aws_s3_bucket\" \"bucket\" {\n",
    "  bucket = \"my-bucket\"\n",
    "}\n",
    "```\n"
   ]
  },
  {
   "cell_type": "markdown",
   "id": "4c6e7daa",
   "metadata": {},
   "source": [
    "\n",
    "---\n",
    "\n",
    "### Challenge\n",
    "- Use AWS CloudWatch (logs and alarms) or GCP Stackdriver for pipeline monitoring.\n"
   ]
  }
 ],
 "metadata": {
  "language_info": {
   "name": "python"
  }
 },
 "nbformat": 4,
 "nbformat_minor": 5
}
